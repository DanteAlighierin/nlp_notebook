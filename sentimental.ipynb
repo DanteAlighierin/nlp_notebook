{
 "cells": [
  {
   "cell_type": "code",
   "execution_count": 5,
   "metadata": {},
   "outputs": [
    {
     "name": "stdout",
     "output_type": "stream",
     "text": [
      "dostoevsky installed\n",
      "/bin/bash: -c: line 1: unexpected EOF while looking for matching `\"'\n",
      "/bin/bash: -c: line 2: syntax error: unexpected end of file\n",
      "Note: you may need to restart the kernel to use updated packages.\n"
     ]
    },
    {
     "name": "stderr",
     "output_type": "stream",
     "text": [
      "Warning : `load_model` does not return WordVectorModel or SupervisedModel any more, but a `FastText` object which is very similar.\n"
     ]
    }
   ],
   "source": [
    "try:\n",
    "    import dostoevsky\n",
    "    print(\"dostoevsky installed\")\n",
    "except:\n",
    "    %pip install dostoevsky\n",
    "    print(\"Package dostoevsky not installed\")\n",
    "    \n",
    "%pip -m dostoevsky download fasttext-social-network-model\")\n",
    "    \n",
    "from dostoevsky.tokenization import RegexTokenizer\n",
    "from dostoevsky.models import FastTextSocialNetworkModel\n",
    "tokenizer = RegexTokenizer()\n",
    "model = FastTextSocialNetworkModel(tokenizer=tokenizer)"
   ]
  },
  {
   "cell_type": "markdown",
   "metadata": {},
   "source": [
    "# Между [ ] вставляем предложения для анализа через точку и в одинарных ковычках. Пишем всё в одну линию без деления на абзацы(кнопку Enter после каждого предложения не жмём,короче) ''  "
   ]
  },
  {
   "cell_type": "code",
   "execution_count": 8,
   "metadata": {},
   "outputs": [],
   "source": [
    "messages = [\n",
    "     ' '\n",
    "]"
   ]
  },
  {
   "cell_type": "code",
   "execution_count": 9,
   "metadata": {},
   "outputs": [
    {
     "name": "stdout",
     "output_type": "stream",
     "text": [
      "Оффициальный тред Доброчана, в котором мы спокойно общаемся и поддерживаем тёплую и ламповую обстановку (всё во имя того, чтобы зашедшей аватарконяше было куда податься). Мы тебе рады, но учти, что здесь соблюдают приличия и не ругаются. Да, да, особенно матом! Если согласен на общение без конфликтов и оскорблений, то вливайся в наш уютный чатик. Сегодня отмечали праздник весны. С танцами и музыкой. Настроение приподнялось. Хочу теперь на праздник. Ой, да это же мой очень хороший друг Аи проснулся. Доброе утро. А тебе уютного утра.  -&gt; {'positive': 0.22271016240119934, 'neutral': 0.19194278120994568}\n"
     ]
    }
   ],
   "source": [
    "results = model.predict(messages, k=2)\n",
    "for message, sentiment in zip(messages, results):\n",
    "    print(message, '-&gt;', sentiment)"
   ]
  }
 ],
 "metadata": {
  "kernelspec": {
   "display_name": "Python 3",
   "language": "python",
   "name": "python3"
  },
  "language_info": {
   "codemirror_mode": {
    "name": "ipython",
    "version": 3
   },
   "file_extension": ".py",
   "mimetype": "text/x-python",
   "name": "python",
   "nbconvert_exporter": "python",
   "pygments_lexer": "ipython3",
   "version": "3.10.3"
  }
 },
 "nbformat": 4,
 "nbformat_minor": 4
}
